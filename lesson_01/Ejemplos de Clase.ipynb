{
 "cells": [
  {
   "cell_type": "code",
   "execution_count": 33,
   "metadata": {},
   "outputs": [
    {
     "name": "stdout",
     "output_type": "stream",
     "text": [
      "opqrstuvwxyz\n",
      "o|p|q|r|s|t|u|v|w|x|y|z|"
     ]
    }
   ],
   "source": [
    "# Cadena iterable\n",
    "cadena = 'opqrstuvwxyz'\n",
    "print(cadena)\n",
    "for letra in cadena:\n",
    "    print(letra, end='|')\n",
    "\n",
    "# imprimiendo funciones básicas de clase str\n",
    "# dir(cadena)"
   ]
  },
  {
   "cell_type": "code",
   "execution_count": 19,
   "metadata": {},
   "outputs": [
    {
     "name": "stdout",
     "output_type": "stream",
     "text": [
      "Yelson\n",
      "Chevarrias\n",
      "Hola Yelson <built-in method upper of str object at 0x1048bccf0>\n"
     ]
    }
   ],
   "source": [
    "# Formateo de cadenas\n",
    "name = input()\n",
    "lastname = input()\n",
    "print('Hola {name} {lastname} {lastname.upper}'.format(**locals()))\n"
   ]
  },
  {
   "cell_type": "code",
   "execution_count": 35,
   "metadata": {},
   "outputs": [
    {
     "name": "stdout",
     "output_type": "stream",
     "text": [
      "rstuvwxyzopqrst\n",
      "Append  ['a', 'b', 'd', 'c', 'd', 'e', 'f', 'g', 'first']\n",
      "Insert  ['z', 'x', 'a', 'b', 'd', 'c', 'd', 'e', 'f', 'g', 'first']\n",
      "Odering  ['a', 'b', 'c', 'd', 'd', 'e', 'f', 'first', 'g', 'x', 'z']\n"
     ]
    }
   ],
   "source": [
    "# Manejo de Listas\n",
    "\n",
    "#Slice\n",
    "#cadena = 'opqrstuvwxyz'\n",
    "lista = ['a','b','d','c','d','e','f','g']\n",
    "nueva_cadena = \"{}{}\".format(cadena[3:], cadena[:6])\n",
    "# cadena[3:] => 'rstuvwxyz' # omite los 3 primeros\n",
    "# cadena[:6] => 'opqrst' # solo los 6 ultimos\n",
    "print(nueva_cadena)\n",
    "\n",
    "# Modificaciones\n",
    "lista.append(\"first\")\n",
    "print(\"Append \",lista)\n",
    "lista.insert(0,'z')\n",
    "lista.insert(1,'x')\n",
    "print(\"Insert \",lista)\n",
    "\n",
    "# Ordenamiento\n",
    "lista.sort()\n",
    "print(\"Odering \",lista)"
   ]
  },
  {
   "cell_type": "code",
   "execution_count": 56,
   "metadata": {},
   "outputs": [
    {
     "name": "stdout",
     "output_type": "stream",
     "text": [
      "ingrese numero separados por espacios: 9 1 8 2 7 3 6 4 5\n",
      "[9.0, 1.0, 8.0, 2.0, 7.0, 3.0, 6.0, 4.0, 5.0]\n",
      "[1.0, 2.0, 3.0, 5.0, 7.0, 4.0, 8.0, 6.0, 9.0]\n",
      "[1.0, 2.0, 3.0, 4.0, 5.0, 6.0, 7.0, 8.0, 9.0]\n"
     ]
    }
   ],
   "source": [
    "# 9 1 8 2 7 3 6 4 5\n",
    "lista_input = list(map(float,input(\"ingrese numero separados por espacios: \").split()))\n",
    "lista_input_2 = lista_input.copy()\n",
    "print(lista_input)\n",
    "\n",
    "# falla\n",
    "for i, ei in enumerate(lista_input):\n",
    "    for j, ej in enumerate(lista_input):\n",
    "        if ei < ej:\n",
    "            lista_input[i], lista_input[j] = lista_input[j], lista_input[i]\n",
    "print(lista_input)\n",
    "\n",
    "for j in range(len(lista_input_2)):\n",
    "    flag = 1\n",
    "    for i in range(len(lista_input_2) -1 - j):\n",
    "        if lista_input_2[i] > lista_input_2[i+1]:\n",
    "            flag = 0\n",
    "            lista_input_2[i], lista_input_2[i+1] = lista_input_2[i+1], lista_input_2[i]\n",
    "    if flag:\n",
    "        break\n",
    "            \n",
    "print(lista_input_2)\n"
   ]
  },
  {
   "cell_type": "code",
   "execution_count": 64,
   "metadata": {},
   "outputs": [
    {
     "name": "stdout",
     "output_type": "stream",
     "text": [
      "pop\n",
      "Error: =>  pop from empty list\n",
      "[]\n"
     ]
    },
    {
     "ename": "KeyboardInterrupt",
     "evalue": "",
     "output_type": "error",
     "traceback": [
      "\u001b[0;31m---------------------------------------------------------------------------\u001b[0m",
      "\u001b[0;31mKeyboardInterrupt\u001b[0m                         Traceback (most recent call last)",
      "\u001b[0;32m~/.venvs/env/lib/python3.7/site-packages/ipykernel/kernelbase.py\u001b[0m in \u001b[0;36m_input_request\u001b[0;34m(self, prompt, ident, parent, password)\u001b[0m\n\u001b[1;32m    728\u001b[0m             \u001b[0;32mtry\u001b[0m\u001b[0;34m:\u001b[0m\u001b[0;34m\u001b[0m\u001b[0m\n\u001b[0;32m--> 729\u001b[0;31m                 \u001b[0mident\u001b[0m\u001b[0;34m,\u001b[0m \u001b[0mreply\u001b[0m \u001b[0;34m=\u001b[0m \u001b[0mself\u001b[0m\u001b[0;34m.\u001b[0m\u001b[0msession\u001b[0m\u001b[0;34m.\u001b[0m\u001b[0mrecv\u001b[0m\u001b[0;34m(\u001b[0m\u001b[0mself\u001b[0m\u001b[0;34m.\u001b[0m\u001b[0mstdin_socket\u001b[0m\u001b[0;34m,\u001b[0m \u001b[0;36m0\u001b[0m\u001b[0;34m)\u001b[0m\u001b[0;34m\u001b[0m\u001b[0m\n\u001b[0m\u001b[1;32m    730\u001b[0m             \u001b[0;32mexcept\u001b[0m \u001b[0mException\u001b[0m\u001b[0;34m:\u001b[0m\u001b[0;34m\u001b[0m\u001b[0m\n",
      "\u001b[0;32m~/.venvs/env/lib/python3.7/site-packages/jupyter_client/session.py\u001b[0m in \u001b[0;36mrecv\u001b[0;34m(self, socket, mode, content, copy)\u001b[0m\n\u001b[1;32m    802\u001b[0m         \u001b[0;32mtry\u001b[0m\u001b[0;34m:\u001b[0m\u001b[0;34m\u001b[0m\u001b[0m\n\u001b[0;32m--> 803\u001b[0;31m             \u001b[0mmsg_list\u001b[0m \u001b[0;34m=\u001b[0m \u001b[0msocket\u001b[0m\u001b[0;34m.\u001b[0m\u001b[0mrecv_multipart\u001b[0m\u001b[0;34m(\u001b[0m\u001b[0mmode\u001b[0m\u001b[0;34m,\u001b[0m \u001b[0mcopy\u001b[0m\u001b[0;34m=\u001b[0m\u001b[0mcopy\u001b[0m\u001b[0;34m)\u001b[0m\u001b[0;34m\u001b[0m\u001b[0m\n\u001b[0m\u001b[1;32m    804\u001b[0m         \u001b[0;32mexcept\u001b[0m \u001b[0mzmq\u001b[0m\u001b[0;34m.\u001b[0m\u001b[0mZMQError\u001b[0m \u001b[0;32mas\u001b[0m \u001b[0me\u001b[0m\u001b[0;34m:\u001b[0m\u001b[0;34m\u001b[0m\u001b[0m\n",
      "\u001b[0;32m~/.venvs/env/lib/python3.7/site-packages/zmq/sugar/socket.py\u001b[0m in \u001b[0;36mrecv_multipart\u001b[0;34m(self, flags, copy, track)\u001b[0m\n\u001b[1;32m    466\u001b[0m         \"\"\"\n\u001b[0;32m--> 467\u001b[0;31m         \u001b[0mparts\u001b[0m \u001b[0;34m=\u001b[0m \u001b[0;34m[\u001b[0m\u001b[0mself\u001b[0m\u001b[0;34m.\u001b[0m\u001b[0mrecv\u001b[0m\u001b[0;34m(\u001b[0m\u001b[0mflags\u001b[0m\u001b[0;34m,\u001b[0m \u001b[0mcopy\u001b[0m\u001b[0;34m=\u001b[0m\u001b[0mcopy\u001b[0m\u001b[0;34m,\u001b[0m \u001b[0mtrack\u001b[0m\u001b[0;34m=\u001b[0m\u001b[0mtrack\u001b[0m\u001b[0;34m)\u001b[0m\u001b[0;34m]\u001b[0m\u001b[0;34m\u001b[0m\u001b[0m\n\u001b[0m\u001b[1;32m    468\u001b[0m         \u001b[0;31m# have first part already, only loop while more to receive\u001b[0m\u001b[0;34m\u001b[0m\u001b[0;34m\u001b[0m\u001b[0m\n",
      "\u001b[0;32mzmq/backend/cython/socket.pyx\u001b[0m in \u001b[0;36mzmq.backend.cython.socket.Socket.recv\u001b[0;34m()\u001b[0m\n",
      "\u001b[0;32mzmq/backend/cython/socket.pyx\u001b[0m in \u001b[0;36mzmq.backend.cython.socket.Socket.recv\u001b[0;34m()\u001b[0m\n",
      "\u001b[0;32mzmq/backend/cython/socket.pyx\u001b[0m in \u001b[0;36mzmq.backend.cython.socket._recv_copy\u001b[0;34m()\u001b[0m\n",
      "\u001b[0;32m~/.venvs/env/lib/python3.7/site-packages/zmq/backend/cython/checkrc.pxd\u001b[0m in \u001b[0;36mzmq.backend.cython.checkrc._check_rc\u001b[0;34m()\u001b[0m\n",
      "\u001b[0;31mKeyboardInterrupt\u001b[0m: ",
      "\nDuring handling of the above exception, another exception occurred:\n",
      "\u001b[0;31mKeyboardInterrupt\u001b[0m                         Traceback (most recent call last)",
      "\u001b[0;32m<ipython-input-64-ed6ca859302b>\u001b[0m in \u001b[0;36m<module>\u001b[0;34m()\u001b[0m\n\u001b[1;32m      1\u001b[0m \u001b[0mlista\u001b[0m \u001b[0;34m=\u001b[0m \u001b[0;34m[\u001b[0m\u001b[0;34m]\u001b[0m\u001b[0;34m\u001b[0m\u001b[0m\n\u001b[1;32m      2\u001b[0m \u001b[0;32mwhile\u001b[0m \u001b[0;32mTrue\u001b[0m\u001b[0;34m:\u001b[0m\u001b[0;34m\u001b[0m\u001b[0m\n\u001b[0;32m----> 3\u001b[0;31m     \u001b[0mraw_args\u001b[0m \u001b[0;34m=\u001b[0m \u001b[0minput\u001b[0m\u001b[0;34m(\u001b[0m\u001b[0;34m)\u001b[0m\u001b[0;34m.\u001b[0m\u001b[0msplit\u001b[0m\u001b[0;34m(\u001b[0m\u001b[0;34m)\u001b[0m\u001b[0;34m\u001b[0m\u001b[0m\n\u001b[0m\u001b[1;32m      4\u001b[0m     \u001b[0margumentos\u001b[0m \u001b[0;34m=\u001b[0m \u001b[0mraw_args\u001b[0m\u001b[0;34m[\u001b[0m\u001b[0;36m1\u001b[0m\u001b[0;34m:\u001b[0m\u001b[0;34m]\u001b[0m\u001b[0;34m\u001b[0m\u001b[0m\n\u001b[1;32m      5\u001b[0m     \u001b[0mcommando\u001b[0m \u001b[0;34m=\u001b[0m \u001b[0mraw_args\u001b[0m\u001b[0;34m[\u001b[0m\u001b[0;36m0\u001b[0m\u001b[0;34m]\u001b[0m\u001b[0;34m\u001b[0m\u001b[0m\n",
      "\u001b[0;32m~/.venvs/env/lib/python3.7/site-packages/ipykernel/kernelbase.py\u001b[0m in \u001b[0;36mraw_input\u001b[0;34m(self, prompt)\u001b[0m\n\u001b[1;32m    702\u001b[0m             \u001b[0mself\u001b[0m\u001b[0;34m.\u001b[0m\u001b[0m_parent_ident\u001b[0m\u001b[0;34m,\u001b[0m\u001b[0;34m\u001b[0m\u001b[0m\n\u001b[1;32m    703\u001b[0m             \u001b[0mself\u001b[0m\u001b[0;34m.\u001b[0m\u001b[0m_parent_header\u001b[0m\u001b[0;34m,\u001b[0m\u001b[0;34m\u001b[0m\u001b[0m\n\u001b[0;32m--> 704\u001b[0;31m             \u001b[0mpassword\u001b[0m\u001b[0;34m=\u001b[0m\u001b[0;32mFalse\u001b[0m\u001b[0;34m,\u001b[0m\u001b[0;34m\u001b[0m\u001b[0m\n\u001b[0m\u001b[1;32m    705\u001b[0m         )\n\u001b[1;32m    706\u001b[0m \u001b[0;34m\u001b[0m\u001b[0m\n",
      "\u001b[0;32m~/.venvs/env/lib/python3.7/site-packages/ipykernel/kernelbase.py\u001b[0m in \u001b[0;36m_input_request\u001b[0;34m(self, prompt, ident, parent, password)\u001b[0m\n\u001b[1;32m    732\u001b[0m             \u001b[0;32mexcept\u001b[0m \u001b[0mKeyboardInterrupt\u001b[0m\u001b[0;34m:\u001b[0m\u001b[0;34m\u001b[0m\u001b[0m\n\u001b[1;32m    733\u001b[0m                 \u001b[0;31m# re-raise KeyboardInterrupt, to truncate traceback\u001b[0m\u001b[0;34m\u001b[0m\u001b[0;34m\u001b[0m\u001b[0m\n\u001b[0;32m--> 734\u001b[0;31m                 \u001b[0;32mraise\u001b[0m \u001b[0mKeyboardInterrupt\u001b[0m\u001b[0;34m\u001b[0m\u001b[0m\n\u001b[0m\u001b[1;32m    735\u001b[0m             \u001b[0;32melse\u001b[0m\u001b[0;34m:\u001b[0m\u001b[0;34m\u001b[0m\u001b[0m\n\u001b[1;32m    736\u001b[0m                 \u001b[0;32mbreak\u001b[0m\u001b[0;34m\u001b[0m\u001b[0m\n",
      "\u001b[0;31mKeyboardInterrupt\u001b[0m: "
     ]
    }
   ],
   "source": [
    "lista = []\n",
    "while True:\n",
    "    raw_args = input().split()\n",
    "    argumentos = raw_args[1:]\n",
    "    commando = raw_args[0]\n",
    "    # print(\"Ejecutando : \"+commando)\n",
    "    if commando == 'print':\n",
    "        print(lista)\n",
    "        continue\n",
    "    if commando == 'insert':\n",
    "        try:\n",
    "            if argumentos > 1:\n",
    "                print(\"insert solo acepta un elemento\")\n",
    "                continue\n",
    "            argumentos[0] = int(argumentos[0])\n",
    "        except ValueError as e:\n",
    "            print(\"indice no valido\")\n",
    "    func = getattr(lista, commando, None)\n",
    "    if func:\n",
    "        try:\n",
    "            if argumentos:\n",
    "                func(*argumentos)\n",
    "            else:\n",
    "                func()\n",
    "        except Exception as e:\n",
    "            print(\"Error: => \", e)\n",
    "    else:\n",
    "        print(\"Comando no reconocido\")\n",
    "    print(lista)\n"
   ]
  },
  {
   "cell_type": "code",
   "execution_count": 72,
   "metadata": {},
   "outputs": [
    {
     "name": "stdout",
     "output_type": "stream",
     "text": [
      "aaaaaa\n",
      "aa\n",
      "'3' aparece aa en 'aaaaaa'\n",
      "5\n"
     ]
    }
   ],
   "source": [
    "cadena = input()\n",
    "cadena_sub = input()\n",
    "count = len(cadena.split(cadena_sub)) - 1\n",
    "print(\"'{}' aparece {} en '{}'\".format(\n",
    "    count, cadena_sub, cadena\n",
    "))\n",
    "\n",
    "concurrencias = 0\n",
    "for i, l in enumerate(cadena):\n",
    "    if l == cadena_sub[0]:\n",
    "        # print(cadena[i:len(cadena_sub)+i], cadena_sub)\n",
    "        if cadena[i:len(cadena_sub)+i] == cadena_sub:\n",
    "            concurrencias += 1\n",
    "\n",
    "print(concurrencias)"
   ]
  },
  {
   "cell_type": "code",
   "execution_count": 85,
   "metadata": {},
   "outputs": [
    {
     "name": "stdout",
     "output_type": "stream",
     "text": [
      "(4, 5, 6, 7, 8, 9)\n",
      "(1, 2, 3)\n"
     ]
    }
   ],
   "source": [
    "# Manejo de Tuplas\n",
    "lista = [1,2,3,4,5,6,7,8,9]\n",
    "tupla = tuple(lista)\n",
    "print(tupla[3:])\n",
    "print(tupla[:3])\n"
   ]
  },
  {
   "cell_type": "code",
   "execution_count": 99,
   "metadata": {},
   "outputs": [
    {
     "name": "stdout",
     "output_type": "stream",
     "text": [
      "{3, 12, 4}\n",
      "{2, 3, 4, 5, 6, 40, 20}\n"
     ]
    }
   ],
   "source": [
    "# Manejo de Conjuntos\n",
    "conjunto1 = set([12,3,4,10,10,10])\n",
    "conjunto0 = {1,2,3,4,5,6}\n",
    "\n",
    "\n",
    "conjunto1.remove(10) # Levanta KeyError si no existe\n",
    "conjunto0.discard(10) # No levanta eeror si no existe\n",
    "\n",
    "conjunto0.pop() # Elimina el primer elemento\n",
    "\n",
    "conjunto0.add(40)\n",
    "conjunto0.add(20)\n",
    "\n",
    "print(conjunto1)\n",
    "print(conjunto0)\n",
    "\n",
    "# Estructuras de datos\n",
    "# Array - indices rapidos\n",
    "# Listas Enlazadas - requiere recorrer\n",
    "# Pilas - Stack (inserta y elemina lo ultimo de la estructura)\n",
    "# Colas - Queue\n",
    "# Arboles - Tree\n",
    "# Hash Tables - set & dict on python - especializado en busquedas\n",
    "# Hash maps\n"
   ]
  },
  {
   "cell_type": "code",
   "execution_count": 105,
   "metadata": {},
   "outputs": [
    {
     "name": "stdout",
     "output_type": "stream",
     "text": [
      "200\n",
      "OK\n",
      "7\n",
      "status\n",
      "value\n",
      "k\n",
      "('status', 200)\n",
      "('value', 'OK')\n",
      "('k', 7)\n",
      "7\n",
      "no-k\n"
     ]
    }
   ],
   "source": [
    "# Manejo de Diccionarios\n",
    "dic = dict(status=200, value=\"OK\", k=7)\n",
    "for v in dic.values():\n",
    "    print(v)\n",
    "\n",
    "for k in dic:\n",
    "    print(k)\n",
    "    \n",
    "\n",
    "for k, v in dic.items():\n",
    "    print((k, v))\n",
    "    \n",
    "print(dic['k'])\n",
    "dic.pop('k')\n",
    "print(dic.get('k', 'no-k'))\n",
    "dic.pop('k', None) # si no existe salta error a menos que se ponga como 2do arg None"
   ]
  },
  {
   "cell_type": "code",
   "execution_count": 112,
   "metadata": {},
   "outputs": [
    {
     "name": "stdout",
     "output_type": "stream",
     "text": [
      "0 11\n",
      "4 7\n",
      "5 6\n"
     ]
    }
   ],
   "source": [
    "lista = set([4,6,7,9,11,5,0])\n",
    "parejas = set()\n",
    "for n in lista:\n",
    "    diff = 11 - n\n",
    "    if n in parejas:\n",
    "        continue\n",
    "    if lista.intersection({diff}):\n",
    "        parejas.add(diff)\n",
    "        print(n, diff)\n",
    "    "
   ]
  },
  {
   "cell_type": "code",
   "execution_count": 113,
   "metadata": {},
   "outputs": [
    {
     "name": "stdout",
     "output_type": "stream",
     "text": [
      "habi una ves un pinche ornitorrinco con un pato paseando por el parque\n",
      "habi 1\n",
      "una 1\n",
      "ves 1\n",
      "un 2\n",
      "pinche 1\n",
      "ornitorrinco 1\n",
      "con 1\n",
      "pato 1\n",
      "paseando 1\n",
      "por 1\n",
      "el 1\n",
      "parque 1\n"
     ]
    }
   ],
   "source": [
    "# Buscando Palabras\n",
    "cadena = input()\n",
    "cadena_parsed = cadena.split()\n",
    "dicc = dict()\n",
    "for p in cadena_parsed:\n",
    "    if dicc.get(p) is None:\n",
    "        dicc[p] = 0\n",
    "    dicc[p] += 1\n",
    "\n",
    "for k,v in dicc.items():\n",
    "    print(k, v)\n",
    "    "
   ]
  }
 ],
 "metadata": {
  "kernelspec": {
   "display_name": "Python 3",
   "language": "python",
   "name": "python3"
  },
  "language_info": {
   "codemirror_mode": {
    "name": "ipython",
    "version": 3
   },
   "file_extension": ".py",
   "mimetype": "text/x-python",
   "name": "python",
   "nbconvert_exporter": "python",
   "pygments_lexer": "ipython3",
   "version": "3.7.0"
  }
 },
 "nbformat": 4,
 "nbformat_minor": 2
}
