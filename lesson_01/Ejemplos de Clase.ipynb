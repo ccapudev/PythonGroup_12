{
 "cells": [
  {
   "cell_type": "code",
   "execution_count": 8,
   "metadata": {},
   "outputs": [
    {
     "name": "stdout",
     "output_type": "stream",
     "text": [
      "NBA\n",
      "N|B|A|"
     ]
    }
   ],
   "source": [
    "# Cadena iterable\n",
    "cadena = 'NBA'\n",
    "print(cadena)\n",
    "for letra in cadena:\n",
    "    print(letra, end='|')\n",
    "\n",
    "# imprimiendo funciones básicas de clase str\n",
    "# dir(cadena)"
   ]
  },
  {
   "cell_type": "code",
   "execution_count": 19,
   "metadata": {},
   "outputs": [
    {
     "name": "stdout",
     "output_type": "stream",
     "text": [
      "Yelson\n",
      "Chevarrias\n",
      "Hola Yelson <built-in method upper of str object at 0x1048bccf0>\n"
     ]
    }
   ],
   "source": [
    "# Formateo de cadenas\n",
    "name = input()\n",
    "lastname = input()\n",
    "print('Hola {name} {lastname} {lastname.upper}'.format(**locals()))\n"
   ]
  },
  {
   "cell_type": "code",
   "execution_count": null,
   "metadata": {},
   "outputs": [],
   "source": [
    "# Manejo de Listas\n"
   ]
  }
 ],
 "metadata": {
  "kernelspec": {
   "display_name": "Python 3",
   "language": "python",
   "name": "python3"
  },
  "language_info": {
   "codemirror_mode": {
    "name": "ipython",
    "version": 3
   },
   "file_extension": ".py",
   "mimetype": "text/x-python",
   "name": "python",
   "nbconvert_exporter": "python",
   "pygments_lexer": "ipython3",
   "version": "3.7.0"
  }
 },
 "nbformat": 4,
 "nbformat_minor": 2
}
