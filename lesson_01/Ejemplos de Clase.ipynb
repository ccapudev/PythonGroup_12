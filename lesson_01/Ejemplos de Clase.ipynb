{
 "cells": [
  {
   "cell_type": "code",
   "execution_count": 25,
   "metadata": {},
   "outputs": [
    {
     "name": "stdout",
     "output_type": "stream",
     "text": [
      "ssssssssssss\n",
      "s|s|s|s|s|s|s|s|s|s|s|s|"
     ]
    }
   ],
   "source": [
    "# Cadena iterable\n",
    "cadena = 'opqrstuvwxyz'\n",
    "print(cadena)\n",
    "for letra in cadena:\n",
    "    print(letra, end='|')\n",
    "\n",
    "# imprimiendo funciones básicas de clase str\n",
    "# dir(cadena)"
   ]
  },
  {
   "cell_type": "code",
   "execution_count": 19,
   "metadata": {},
   "outputs": [
    {
     "name": "stdout",
     "output_type": "stream",
     "text": [
      "Yelson\n",
      "Chevarrias\n",
      "Hola Yelson <built-in method upper of str object at 0x1048bccf0>\n"
     ]
    }
   ],
   "source": [
    "# Formateo de cadenas\n",
    "name = input()\n",
    "lastname = input()\n",
    "print('Hola {name} {lastname} {lastname.upper}'.format(**locals()))\n"
   ]
  },
  {
   "cell_type": "code",
   "execution_count": 31,
   "metadata": {},
   "outputs": [
    {
     "name": "stdout",
     "output_type": "stream",
     "text": [
      "sssssssssssssss\n",
      "['a', 'b', 'a', 'b', 'd', 'c', 'd', 'e', 'f', 'g', 'first']\n"
     ]
    }
   ],
   "source": [
    "# Manejo de Listas\n",
    "\n",
    "#Slice\n",
    "#cadena = 'opqrstuvwxyz'\n",
    "lista = ['a','b','d','c','d','e','f','g']\n",
    "nueva_cadena = \"{}{}\".format(cadena[3:], cadena[:6])\n",
    "# cadena[3:] => 'rstuvwxyz' # omite los 3 primeros\n",
    "# cadena[:6] => 'opqrst' # solo los 6 ultimos\n",
    "print(nueva_cadena)\n",
    "\n",
    "lista.append(\"first\")\n",
    "lista.insert(0,'a')\n",
    "lista.insert(1,'b')\n",
    "print(lista)"
   ]
  }
 ],
 "metadata": {
  "kernelspec": {
   "display_name": "Python 3",
   "language": "python",
   "name": "python3"
  },
  "language_info": {
   "codemirror_mode": {
    "name": "ipython",
    "version": 3
   },
   "file_extension": ".py",
   "mimetype": "text/x-python",
   "name": "python",
   "nbconvert_exporter": "python",
   "pygments_lexer": "ipython3",
   "version": "3.7.0"
  }
 },
 "nbformat": 4,
 "nbformat_minor": 2
}
