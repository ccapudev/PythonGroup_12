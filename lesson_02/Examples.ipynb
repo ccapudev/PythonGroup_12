{
 "cells": [
  {
   "cell_type": "markdown",
   "metadata": {},
   "source": [
    "# Ejemplos clase 02 #"
   ]
  },
  {
   "cell_type": "markdown",
   "metadata": {},
   "source": [
    "## 1. Listas ##\n",
    "\n",
    "Considera una lista `lista = []`. Puedes realizar los siguientes comandos:\n",
    "\n",
    "* `insert i e`: Inserta el entero `e` en la posición `i`.\n",
    "* `print`: Imprime la lista.\n",
    "* `remove e`: Elimina la primera ocurrencia del entero `e`.\n",
    "* `append e`: Inserta el entero `e` al final de la lista.\n",
    "* `sort`: Ordena la lista.\n",
    "* `pop`: Elimina el último element de la lista.\n",
    "* `reverse`: Invierte la lista.\n",
    "\n",
    "Crea tu lista y lee el valor de `n`, las siguientes `n` líneas serán comandos de alguno de los tipos de arriba. Ejecuta cada uno de los comandos a tu lista, en el orden en que son entregados.\n",
    "\n",
    "### Solución ###\n",
    "\n",
    "Podemos aprovechar el método `split` para dividir cada comando."
   ]
  },
  {
   "cell_type": "code",
   "execution_count": null,
   "metadata": {},
   "outputs": [],
   "source": [
    "n = int(input())\n",
    "\n",
    "array = []\n",
    "for i in range(n):\n",
    "    inn = input()\n",
    "    command = inn.split(' ')\n",
    "    if command[0] == 'print':\n",
    "        print(array)\n",
    "    if command[0] == 'sort':\n",
    "        array.sort()\n",
    "    if command[0] == 'pop':\n",
    "        array.pop()\n",
    "    if command[0] == 'reverse':\n",
    "        array.reverse()\n",
    "    if command[0] == 'remove':\n",
    "        array.remove(int(command[1]))\n",
    "    if command[0] == 'append':\n",
    "        array.append(int(command[1]))\n",
    "    if command[0] == 'insert':\n",
    "        array.insert(int(command[1]), int(command[2]))"
   ]
  },
  {
   "cell_type": "markdown",
   "metadata": {},
   "source": [
    "## 2. Ordenamiento Burbuja ##\n",
    "\n",
    "Lee una lista de números enteros separados por un espacio en blanco. Tienes la tarea de ordenarla de menor a mayor.\n",
    "\n",
    "### Solución ###\n",
    "\n",
    "Un algoritmo de ordenamiento muy conocido es el ordenamiento de burbuja (bubble sort), la idea es comparar elementos consecutivos de la lista y colocar al mayor al lado derecho, con esto al final de la primera iteración tendremos al elemento mayor en el extremo derecho, en la segunda iteración al segundo mayor y así para los `n` elementos de la lista. "
   ]
  },
  {
   "cell_type": "code",
   "execution_count": null,
   "metadata": {},
   "outputs": [],
   "source": [
    "array = list(map(int, input().split()))\n",
    "\n",
    "n = len(array)\n",
    "for i in range(n):\n",
    "    for j in range(n - 1):\n",
    "        if array[j] > array[j + 1]:\n",
    "            array[j], array[j + 1] = array[j + 1], array[j]\n",
    "            \n",
    "print(array)"
   ]
  },
  {
   "cell_type": "markdown",
   "metadata": {},
   "source": [
    "En cada iteración los elementos mayores van hacia el final de la lista, entonces no es necesario comparar a los últimos elementos que ya están ordenados.\n",
    "\n",
    "Si en una iteración no hubo intercambio quiere decir que la lista ya esta ordenada, por tanto no es necesario seguir con más iteraciones."
   ]
  },
  {
   "cell_type": "code",
   "execution_count": null,
   "metadata": {},
   "outputs": [],
   "source": [
    "array = list(map(int, input().split()))\n",
    "\n",
    "n = len(array)\n",
    "for i in range(n):\n",
    "    ban = True\n",
    "    for j in range(n - 1 - i):  # No es necesario ir hasta el final.\n",
    "        if array[j] > array[j + 1]:\n",
    "            array[j], array[j + 1] = array[j + 1], array[j]\n",
    "            ban = False  # Si hay un intercambio la lista no estaba ordenada.\n",
    "    if ban:\n",
    "        break\n",
    "\n",
    "print(array)"
   ]
  },
  {
   "cell_type": "markdown",
   "metadata": {},
   "source": [
    "## 3. Subcadenas ##\n",
    "\n",
    "Lee una cadena y una subcadena de esta. Debes imprimir el número de veces que la subcadena aparece en la cadena. Considera que la cuenta sólo se hace de izquierda a derecha.\n",
    "\n",
    "### Solución ###"
   ]
  },
  {
   "cell_type": "markdown",
   "metadata": {},
   "source": [
    "Buscamos la subcadena iterativamente."
   ]
  },
  {
   "cell_type": "code",
   "execution_count": null,
   "metadata": {},
   "outputs": [],
   "source": [
    "string = input()\n",
    "substring = input()\n",
    "\n",
    "con = 0\n",
    "while True:\n",
    "    found = string.find(substring)\n",
    "    if found == -1:\n",
    "        break\n",
    "    string = string[found + 1:]\n",
    "    con += 1\n",
    "print(con)"
   ]
  },
  {
   "cell_type": "markdown",
   "metadata": {},
   "source": [
    "Sin utilizar el método `find`. "
   ]
  },
  {
   "cell_type": "code",
   "execution_count": null,
   "metadata": {},
   "outputs": [],
   "source": [
    "string = input()\n",
    "substring = input()\n",
    "\n",
    "con = 0\n",
    "for i in range(len(string) - len(substring) + 1):\n",
    "    ban = True\n",
    "    for j in range(len(substring)):\n",
    "        if string[i + j] != substring[j]:\n",
    "            ban = False\n",
    "            break\n",
    "    if ban:\n",
    "        con += 1\n",
    "print(con)"
   ]
  },
  {
   "cell_type": "markdown",
   "metadata": {},
   "source": [
    "## 4. Pares de sumas ##\n",
    "\n",
    "Dada una lista de números enteros y un valor dado `m`, debes encontrar todos los pares de elementos de la lista que sumen `m`.\n",
    "\n",
    "### Solución ###\n",
    "\n",
    "La idea es mantener una lista auxiliar en la que iremos buscando el complemento (la diferencia para obtener la suma deseada) de cada elemento de la primera lista y luego este elemento es agregado a la lista auxiliar ya que es un nuevo posible complemento."
   ]
  },
  {
   "cell_type": "code",
   "execution_count": null,
   "metadata": {},
   "outputs": [],
   "source": [
    "array = [7, 5, 2, 6, 4, 8, 9]\n",
    "m = 14\n",
    "\n",
    "array_aux = []\n",
    "for i in array:\n",
    "    if m - i in array_aux:\n",
    "        print(m - i, i)\n",
    "    array_aux.append(i)"
   ]
  },
  {
   "cell_type": "markdown",
   "metadata": {},
   "source": [
    "La búsqueda en listas son lentas, así que nos apoyamos en un set que tiene búsquedas eficientes."
   ]
  },
  {
   "cell_type": "code",
   "execution_count": null,
   "metadata": {},
   "outputs": [],
   "source": [
    "hash_table = set()\n",
    "for i in array:\n",
    "    if m - i in hash_table:\n",
    "        print(m - i, i)\n",
    "    hash_table.add(i)"
   ]
  },
  {
   "cell_type": "markdown",
   "metadata": {},
   "source": [
    "## 5. Ocurrencias ##\n",
    "\n",
    "Lee una cadena de caracteres, y debes imprimir cada palabra en esta cadena y el número de ocurrencias de esta.\n",
    "\n",
    "**Ejemplo:**\n",
    "\n",
    "Entrada:\n",
    "\n",
    "    \"bbb aaa bbb bbb aaa\"\n",
    "\n",
    "Salida:\n",
    "\n",
    "    bbb 3\n",
    "    aaa 2\n",
    "\n",
    "### Solución ###\n",
    "\n",
    "Para contar eficientemente las ocurrencias podemos apoyarnos en un diccionario."
   ]
  },
  {
   "cell_type": "code",
   "execution_count": null,
   "metadata": {},
   "outputs": [],
   "source": [
    "string = input()\n",
    "\n",
    "hash_table = {}\n",
    "for word in string.split():\n",
    "    if hash_table.get(word) == None:\n",
    "        hash_table[word] = 1\n",
    "    else:\n",
    "        hash_table[word] += 1\n",
    "\n",
    "for key, value in hash_table.items():\n",
    "    print(key, value)"
   ]
  }
 ],
 "metadata": {
  "kernelspec": {
   "display_name": "Python 3",
   "language": "python",
   "name": "python3"
  },
  "language_info": {
   "codemirror_mode": {
    "name": "ipython",
    "version": 3
   },
   "file_extension": ".py",
   "mimetype": "text/x-python",
   "name": "python",
   "nbconvert_exporter": "python",
   "pygments_lexer": "ipython3",
   "version": "3.6.6"
  }
 },
 "nbformat": 4,
 "nbformat_minor": 2
}
