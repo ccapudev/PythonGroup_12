{
 "cells": [
  {
   "cell_type": "markdown",
   "metadata": {},
   "source": [
    "# Ejemplos clase 03 #"
   ]
  },
  {
   "cell_type": "markdown",
   "metadata": {},
   "source": [
    "## 1. 3n + 1 ##\n",
    "\n",
    "Sea la siguiente operación, aplicable a cualquier número entero positivo:\n",
    "\n",
    ">Si el número es 1, se termina.\n",
    ">\n",
    ">Si el número es par, se divide entre 2.\n",
    ">\n",
    ">Si el número es impar, se multiplica por 3 y se suma 1.\n",
    "\n",
    "Escribe una función que realice las operaciones arriba descritas y retorne el número de pasos hasta llegar a 1.  \n",
    "\n",
    "[Más sobre la conjetura 3n + 1](https://es.wikipedia.org/wiki/Conjetura_de_Collatz)\n",
    "\n",
    "### Solución ###"
   ]
  },
  {
   "cell_type": "code",
   "execution_count": null,
   "metadata": {},
   "outputs": [],
   "source": [
    "number = int(input())\n",
    "\n",
    "def collatz(number):\n",
    "    step = 0\n",
    "    while number != 1:\n",
    "        if number % 2 == 0:\n",
    "            number /= 2\n",
    "        else:\n",
    "            number = number * 3 + 1\n",
    "        step += 1\n",
    "    return step\n",
    "\n",
    "collatz(number)"
   ]
  },
  {
   "cell_type": "markdown",
   "metadata": {},
   "source": [
    "## 2. Mayor de 3 ##\n",
    "\n",
    "La tarea es desarrollar un programa que lea tres números y determine el mayor de estos usando una función que llamarás `mayor3`.\n",
    "\n",
    "**Ejemplo:**\n",
    "\n",
    ">Entrada: 5, 9, 7\n",
    ">\n",
    ">Salida: 9\n",
    "\n",
    "### Solución ###\n",
    "\n",
    "Apoyándonos en operadores lógicos podemos encontrar una solución corta."
   ]
  },
  {
   "cell_type": "code",
   "execution_count": null,
   "metadata": {},
   "outputs": [],
   "source": [
    "x = int(input())\n",
    "y = int(input())\n",
    "z = int(input())\n",
    "\n",
    "def mayor3(a, b, c):\n",
    "    if a > b and a > c:\n",
    "        return a\n",
    "    elif b > c:\n",
    "        return b\n",
    "    return c\n",
    "\n",
    "mayor3(x, y, z)"
   ]
  },
  {
   "cell_type": "markdown",
   "metadata": {},
   "source": [
    "Aprovechando la modularización que nos dan las funciones podemos desarrollar una solución más legible."
   ]
  },
  {
   "cell_type": "code",
   "execution_count": null,
   "metadata": {},
   "outputs": [],
   "source": [
    "def mayor2(a, b):\n",
    "    if a > b:\n",
    "        return a\n",
    "    return b\n",
    "\n",
    "def mayor3(a, b, c):\n",
    "    return mayor2(mayor2(a, b), c)\n",
    "\n",
    "mayor3(x, y, z)"
   ]
  },
  {
   "cell_type": "markdown",
   "metadata": {},
   "source": [
    "## 3. Factorial ##\n",
    "\n",
    "Tienes que implementar un función que reciba un número entero no negativo como parámetro y devuelva el factorial de este.\n",
    "\n",
    "**Ejemplo:**\n",
    "\n",
    ">Entrada: 5\n",
    ">\n",
    ">Salida: 120\n",
    "\n",
    "[Más sobre Factorial](https://es.wikipedia.org/wiki/Factorial)\n",
    "\n",
    "### Solución ###\n",
    "\n",
    "Ya que sabemos que `n! = n * (n - 1) ... * 2 * 1`, podemos usar un bucle para acumular el producto total. Esta sería una solución iterativa."
   ]
  },
  {
   "cell_type": "code",
   "execution_count": null,
   "metadata": {},
   "outputs": [],
   "source": [
    "n = int(input())\n",
    "\n",
    "def factorial(n):\n",
    "    if n == 0 or n == 1:\n",
    "        return 1\n",
    "    f = 1\n",
    "    for i in range(1, n + 1):\n",
    "        f *= i\n",
    "    return f\n",
    "\n",
    "factorial(n)"
   ]
  },
  {
   "cell_type": "markdown",
   "metadata": {},
   "source": [
    "Como también sabemos que `n! = n * (n - 1)!`, podemos plantear una solución recursiva. "
   ]
  },
  {
   "cell_type": "code",
   "execution_count": null,
   "metadata": {},
   "outputs": [],
   "source": [
    "def factorial(n):\n",
    "    if n == 0 or n == 1:\n",
    "        return 1\n",
    "    return n * factorial(n - 1)\n",
    "\n",
    "factorial(n)"
   ]
  },
  {
   "cell_type": "markdown",
   "metadata": {},
   "source": [
    "## 4. Piedra, papel y tijera##\n",
    "\n",
    "Todos conocemos el típico juego, nos piden que desarrollemos un programa que liste todas las posibles combinaciones si juegan dos amigos.\n",
    "\n",
    "### Solución ###\n",
    "\n",
    "Bastaría con usar dos bucles anidados para generar las combinaciones."
   ]
  },
  {
   "cell_type": "code",
   "execution_count": null,
   "metadata": {},
   "outputs": [],
   "source": [
    "values = ['piedra', 'papel', 'tijera']\n",
    "\n",
    "combinations = []\n",
    "\n",
    "for u in values:\n",
    "    for v in values:\n",
    "        combinations.append((u, v))\n",
    "\n",
    "combinations"
   ]
  },
  {
   "cell_type": "markdown",
   "metadata": {},
   "source": [
    "Mucho más elegante resulta usar listas por comprensión."
   ]
  },
  {
   "cell_type": "code",
   "execution_count": null,
   "metadata": {},
   "outputs": [],
   "source": [
    "[(u, v) for u in values for v in values]"
   ]
  },
  {
   "cell_type": "markdown",
   "metadata": {},
   "source": [
    "## 5. Input() ##\n",
    "\n",
    "Hemos usado la función `input` varias veces hasta ahora, debes volver a usarla para leer el ingreso de una cantidad no fija números enteros separados por un espacio. Imprime una lista con estos números.\n",
    "\n",
    "**Ejemplo:**\n",
    "\n",
    "> Entrada: 1 2 4 6 3 23 43\n",
    ">\n",
    "> Salida: [1, 2, 4, 6, 3, 23, 43]\n",
    "\n",
    "### Solución ###\n",
    "\n",
    "Usamos `input` para leer la cadena y con split armamos una lista de cadenas, luego con un bucle y la función `int` armamos la lista de enteros."
   ]
  },
  {
   "cell_type": "code",
   "execution_count": null,
   "metadata": {},
   "outputs": [],
   "source": [
    "string = input()\n",
    "str_array = string.split()\n",
    "\n",
    "int_array = []\n",
    "for c in str_array:\n",
    "    int_array.append(int(c))\n",
    "\n",
    "int_array"
   ]
  },
  {
   "cell_type": "markdown",
   "metadata": {},
   "source": [
    "Pero usando `map` es mucho más simple."
   ]
  },
  {
   "cell_type": "code",
   "execution_count": null,
   "metadata": {},
   "outputs": [],
   "source": [
    "list(map(int, input().split()))"
   ]
  },
  {
   "cell_type": "markdown",
   "metadata": {},
   "source": [
    "## 6. Celulares ##\n",
    "\n",
    "Lees una cantidad no fija de números de celulares y debes regresar una lista que contenga sólo aquellos números que sean válidos. Un número de celular válido es aquel que tiene 9 dígitos y su primer dígito es 7, 8 o 9.\n",
    "\n",
    "**Ejemplo:**\n",
    "\n",
    ">Entrada: 999999999 989898980 799999 99999999999 787890980\n",
    ">\n",
    ">Salida: [999999999, 989898980, 787890980]\n",
    "\n",
    "### Solución ###\n",
    "\n",
    "Leemos los números y filtramos aquellos que cumplan con la condición pedida."
   ]
  },
  {
   "cell_type": "code",
   "execution_count": null,
   "metadata": {},
   "outputs": [],
   "source": [
    "array = input().split()\n",
    "\n",
    "response = []\n",
    "for n in array:\n",
    "    if len(n) == 9 and 6 < int(n[0]) < 10:\n",
    "        response.append(n)\n",
    "\n",
    "response"
   ]
  },
  {
   "cell_type": "markdown",
   "metadata": {},
   "source": [
    " En una línea si nos apoyamos en la función `filter`."
   ]
  },
  {
   "cell_type": "code",
   "execution_count": null,
   "metadata": {},
   "outputs": [],
   "source": [
    "list(filter(lambda n: 6 < int(n[0]) < 10 and len(n) == 9, array))"
   ]
  },
  {
   "cell_type": "markdown",
   "metadata": {},
   "source": [
    "## 7. Coordenadas ##\n",
    "\n",
    "Por error en una medición de coordenadas se registraron por separado las longitudes `X` y las latitudes `Y`, tu tarea es leer ambos registros e imprimir una lista de coordenadas. Además debes imprimir la suma de todas las coordenadas.\n",
    "\n",
    "**Ejemplo:**\n",
    "\n",
    "Entrada:\n",
    "\n",
    "    1 2 3\n",
    "    1 2 3\n",
    "    \n",
    "Salida:\n",
    "\n",
    "    [(1, 1), (2, 2), (3, 3)]\n",
    "    (6, 6)\n",
    "\n",
    "### Solución ###\n",
    "\n",
    "Apoyándonos en la función `zip` podemos rápidamente unir las latitudes y longitudes, posteriormente usamos `reduce` para sumar todas las coordenadas."
   ]
  },
  {
   "cell_type": "code",
   "execution_count": null,
   "metadata": {},
   "outputs": [],
   "source": [
    "from functools import reduce\n",
    "\n",
    "X = map(int, input().split())\n",
    "Y = map(int, input().split())\n",
    "\n",
    "coords = [p for p in zip(X, Y)]\n",
    "print(coords)\n",
    "reduce(lambda p1, p2: (p1[0] + p2[0], p1[1] + p2[0]), coords)"
   ]
  },
  {
   "cell_type": "markdown",
   "metadata": {},
   "source": [
    "Sin usar `zip` necesitamos apoyarnos en `map`."
   ]
  },
  {
   "cell_type": "code",
   "execution_count": null,
   "metadata": {},
   "outputs": [],
   "source": [
    "X = map(int, input().split())\n",
    "Y = map(int, input().split())\n",
    "\n",
    "coords = list(map(lambda x, y: (x, y), X, Y))\n",
    "print(coords)\n",
    "reduce(lambda p1, p2: (p1[0] + p2[0], p1[1] + p2[0]), coords)"
   ]
  }
 ],
 "metadata": {
  "kernelspec": {
   "display_name": "Python 3",
   "language": "python",
   "name": "python3"
  },
  "language_info": {
   "codemirror_mode": {
    "name": "ipython",
    "version": 3
   },
   "file_extension": ".py",
   "mimetype": "text/x-python",
   "name": "python",
   "nbconvert_exporter": "python",
   "pygments_lexer": "ipython3",
   "version": "3.6.6"
  }
 },
 "nbformat": 4,
 "nbformat_minor": 2
}
