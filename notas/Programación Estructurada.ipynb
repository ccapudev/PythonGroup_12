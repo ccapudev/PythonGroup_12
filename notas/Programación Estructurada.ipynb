{
 "cells": [
  {
   "cell_type": "code",
   "execution_count": null,
   "metadata": {},
   "outputs": [],
   "source": [
    "import time\n",
    "'''\n",
    "Caracteristicas:\n",
    "-- Modularidad\n",
    "-- Punto principal son funciones\n",
    "-- Reutilización\n",
    "'''"
   ]
  },
  {
   "cell_type": "code",
   "execution_count": 61,
   "metadata": {},
   "outputs": [
    {
     "name": "stdout",
     "output_type": "stream",
     "text": [
      "a in main =>  a_local\na_global\n"
     ]
    }
   ],
   "source": [
    "#  Funcion en Funciones\n",
    "a = 0\n",
    "\n",
    "def main():\n",
    "    a = 1\n",
    "    def proc0():\n",
    "        nonlocal a\n",
    "        a='a_local'\n",
    "        def proc0():\n",
    "            global a\n",
    "            a='a_global'\n",
    "        proc0()\n",
    "    proc0()\n",
    "    print('a in main => ', a)\n",
    "    return proc0()\n",
    "main()\n",
    "print(a)\n",
    "\n",
    "\n",
    "\n"
   ]
  },
  {
   "cell_type": "code",
   "execution_count": 8,
   "metadata": {},
   "outputs": [
    {
     "data": {
      "text/plain": [
       "4"
      ]
     },
     "execution_count": 8,
     "metadata": {},
     "output_type": "execute_result"
    }
   ],
   "source": [
    "def potenciar(n, p):\n",
    "    return n**p\n",
    "potenciar(2,2)"
   ]
  },
  {
   "cell_type": "code",
   "execution_count": 53,
   "metadata": {},
   "outputs": [
    {
     "name": "stdout",
     "output_type": "stream",
     "text": [
      "5.015286684036255\n"
     ]
    },
    {
     "name": "stdout",
     "output_type": "stream",
     "text": [
      "9.070518970489502\n"
     ]
    }
   ],
   "source": [
    "import time\n",
    "import random\n",
    "\n",
    "def chunk(l, n):\n",
    "    for i in range(0, len(l), n):\n",
    "        yield l[i:i + n]\n",
    "\n",
    "def get_mayor_2(a, b=0):\n",
    "    if a > b:\n",
    "        return a\n",
    "    return b\n",
    "\n",
    "def get_sample_ints(cantidad):\n",
    "    for i in range(cantidad):\n",
    "        yield int(random.random() * cantidad)\n",
    "\n",
    "def get_mayor_v1(lista):\n",
    "    nums = lista\n",
    "    nums.sort()\n",
    "    return nums[-1]\n",
    "\n",
    "def get_mayor(lista):\n",
    "    sectores = chunk(lista, 2)\n",
    "    mayor = 0\n",
    "    for pareja in sectores:\n",
    "        mayor = get_mayor_2(get_mayor_2(*pareja), mayor)\n",
    "    return mayor\n",
    "\n",
    "lista_madre = list(get_sample_ints(9*1000000))\n",
    "lista0 = lista_madre.copy()\n",
    "lista1 = lista_madre.copy()\n",
    "\n",
    "ahora = time.time()\n",
    "get_mayor(lista0)\n",
    "print(time.time() - ahora)\n",
    "\n",
    "ahora = time.time()\n",
    "get_mayor_v1(lista1)\n",
    "print(time.time() - ahora)"
   ]
  },
  {
   "cell_type": "code",
   "execution_count": 10,
   "metadata": {},
   "outputs": [
    {
     "name": "stdout",
     "output_type": "stream",
     "text": [
      "6.424367666244507  fibonacci\n0.0  fibonacci_mem\n"
     ]
    }
   ],
   "source": [
    "import time\n",
    "#  Funcion factorial\n",
    "\n",
    "\n",
    "def factotial(n):\n",
    "    if n <= 1:\n",
    "        return 1\n",
    "    return n*factotial(n - 1)\n",
    "\n",
    "\n",
    "factotial(26)\n",
    "\n",
    "\n",
    "fibor_for = 35\n",
    "#  Este metodo es poco eficiente ya que llama varias veces el mismo caso\n",
    "def fibonacci(n):\n",
    "    if n <= 2:\n",
    "        return 1\n",
    "    return fibonacci(n - 1) + fibonacci(n - 2)\n",
    "\n",
    "\n",
    "ahora = time.time()\n",
    "fibonacci(fibor_for)\n",
    "print(time.time() - ahora, ' fibonacci')\n",
    "\n",
    "# por memorización\n",
    "def fibonacci_mem(n):\n",
    "    fibo = [0,1]\n",
    "    for i in range(2, n+1):\n",
    "        fibo.append(fibo[i-1] + fibo[i-2])\n",
    "    return fibo[n]\n",
    "\n",
    "\n",
    "ahora = time.time()\n",
    "fibonacci_mem(fibor_for)\n",
    "print(time.time() - ahora, ' fibonacci_mem')\n"
   ]
  },
  {
   "cell_type": "code",
   "execution_count": 13,
   "metadata": {},
   "outputs": [
    {
     "data": {
      "text/plain": [
       "[('piedra', 'papel'),\n ('piedra', 'tijera'),\n ('papel', 'piedra'),\n ('papel', 'tijera'),\n ('tijera', 'piedra'),\n ('tijera', 'papel')]"
      ]
     },
     "execution_count": 13,
     "metadata": {},
     "output_type": "execute_result"
    }
   ],
   "source": [
    "# Piedra Papel Tijeras\n",
    "jugadas = ['piedra', 'papel', 'tijera']\n",
    "\n",
    "def ppt():\n",
    "    return [(u,v) for u in jugadas for v in jugadas]\n",
    "\n",
    "def ppt_no_empates():\n",
    "    return [(u,v) for u in jugadas for v in jugadas if u != v]\n",
    "ppt_no_empates()"
   ]
  },
  {
   "cell_type": "code",
   "execution_count": 21,
   "metadata": {},
   "outputs": [
    {
     "data": {
      "text/plain": [
       "[('piedra', 'piedra'),\n ('piedra', 'papel'),\n ('piedra', 'tijera'),\n ('papel', 'piedra'),\n ('papel', 'papel'),\n ('papel', 'tijera')]"
      ]
     },
     "execution_count": 21,
     "metadata": {},
     "output_type": "execute_result"
    }
   ],
   "source": [
    "#print(ppt())\n",
    "list(map(lambda x: x[0],ppt()))\n",
    "\n",
    "list(filter(lambda x: x[0][0] == 'p', ppt()))"
   ]
  }
 ],
 "metadata": {
  "kernelspec": {
   "display_name": "Python 3",
   "language": "python",
   "name": "python3"
  }
 },
 "nbformat": 4,
 "nbformat_minor": 2
}
